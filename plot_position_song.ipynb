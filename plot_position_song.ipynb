{
 "cells": [
  {
   "cell_type": "markdown",
   "id": "773381ad",
   "metadata": {},
   "source": [
    "# Look at where the animal are during and around singing"
   ]
  },
  {
   "cell_type": "markdown",
   "id": "6a43199e",
   "metadata": {},
   "source": [
    "## import modules"
   ]
  },
  {
   "cell_type": "code",
   "execution_count": 169,
   "id": "8dd71d34",
   "metadata": {},
   "outputs": [],
   "source": [
    "import os\n",
    "import yaml\n",
    "import numpy as np\n",
    "import scipy.io\n",
    "import scipy.signal\n",
    "import pandas as pd\n",
    "import matplotlib.pyplot as plt\n",
    "import matplotlib.patches as patches"
   ]
  },
  {
   "cell_type": "markdown",
   "id": "79a312ef",
   "metadata": {},
   "source": [
    "## constants"
   ]
  },
  {
   "cell_type": "code",
   "execution_count": 170,
   "id": "4dafa2bc",
   "metadata": {},
   "outputs": [],
   "source": [
    "VIDEO_ID = 0\n",
    "SAVE_FIG = False\n",
    "SAVE_FIG_FORMAT = \"pdf\"\n",
    "SAVE_FIG_DIR = (\n",
    "    f\"/home/csk/Documents/Research/Modeling singing mouse behavior/plots/{VIDEO_ID}\"\n",
    ")\n",
    "COMMON_WORLD_COORDS_FILEPATH = f\"/mnt/labNAS/Chris/mousesong/usv_calls/08_solosocial/02_20230919_um008_uf003_mf/02_social/process_video/2023-09-20-100934_cam0_0000{VIDEO_ID}.common_coords.mat\"\n",
    "SONG_DETECTIONS_FILEPATH_NEW = f\"/mnt/labNAS/Chris/mousesong/usv_calls/08_solosocial/02_20230919_um008_uf003_mf/02_social/process_audio/all_song_detections/000002{VIDEO_ID}/song_detections.csv\"\n",
    "L_COORDS_FILEPATH = \"/mnt/labNAS/Chris/mousesong/usv_calls/08_solosocial/cam_params/cage_coords_21415940_corrected.yml\"\n",
    "R_COORDS_FILEPATH = \"/mnt/labNAS/Chris/mousesong/usv_calls/08_solosocial/cam_params/cage_coords_21428187_corrected.yml\""
   ]
  },
  {
   "cell_type": "markdown",
   "id": "7352ce13",
   "metadata": {},
   "source": [
    "## load tracking file and skeleton"
   ]
  },
  {
   "cell_type": "code",
   "execution_count": 171,
   "id": "a73068f9",
   "metadata": {},
   "outputs": [],
   "source": [
    "# load world coords\n",
    "locations_world = scipy.io.loadmat(COMMON_WORLD_COORDS_FILEPATH, squeeze_me=True)\n",
    "l_locations_world = locations_world[\"l_locations_world\"]\n",
    "r_locations_world = locations_world[\"r_locations_world\"]\n",
    "fps = 50"
   ]
  },
  {
   "cell_type": "code",
   "execution_count": 172,
   "id": "6eb93786",
   "metadata": {},
   "outputs": [],
   "source": [
    "with open(L_COORDS_FILEPATH, \"r\") as f:\n",
    "    l_coords = yaml.safe_load(f)\n",
    "l_coords_world = l_coords[\"world_cage\"]\n",
    "with open(R_COORDS_FILEPATH, \"r\") as f:\n",
    "    r_coords = yaml.safe_load(f)\n",
    "r_coords_world = r_coords[\"world_cage\"]"
   ]
  },
  {
   "cell_type": "code",
   "execution_count": 173,
   "id": "29fc0c16",
   "metadata": {},
   "outputs": [],
   "source": [
    "skeleton = np.array([[2, 0], [2, 1], [0, 1], [2, 3], [3, 4], [4, 5]])"
   ]
  },
  {
   "cell_type": "markdown",
   "id": "ab1be224",
   "metadata": {},
   "source": [
    "## load song detections"
   ]
  },
  {
   "cell_type": "code",
   "execution_count": 174,
   "id": "0db6a485",
   "metadata": {},
   "outputs": [],
   "source": [
    "df = pd.read_csv(SONG_DETECTIONS_FILEPATH_NEW, usecols=[\"start\", \"end\", \"code\"])\n",
    "song_detections = list(df.itertuples(index=False, name=None))"
   ]
  },
  {
   "cell_type": "code",
   "execution_count": 175,
   "id": "fce60f57",
   "metadata": {},
   "outputs": [],
   "source": [
    "spineM_idx = 4\n",
    "l_spineM_world = l_locations_world[:, spineM_idx, :]\n",
    "r_spineM_world = r_locations_world[:, spineM_idx, :]"
   ]
  },
  {
   "cell_type": "markdown",
   "id": "0ea893fe",
   "metadata": {},
   "source": [
    "## plot song position"
   ]
  },
  {
   "cell_type": "code",
   "execution_count": 176,
   "id": "6ebe5d13",
   "metadata": {},
   "outputs": [],
   "source": [
    "t_before = 10\n",
    "t_after = 0"
   ]
  },
  {
   "cell_type": "code",
   "execution_count": 177,
   "id": "b2b26d1e",
   "metadata": {},
   "outputs": [
    {
     "data": {
      "image/png": "[encoded data removed]",
      "text/plain": [
       "<Figure size 600x300 with 1 Axes>"
      ]
     },
     "metadata": {},
     "output_type": "display_data"
    }
   ],
   "source": [
    "fig, ax = plt.subplots(figsize=(6, 3))\n",
    "ax.add_patch(\n",
    "    patches.Rectangle(\n",
    "        (l_coords_world[\"x\"], l_coords_world[\"y\"]),\n",
    "        l_coords_world[\"w\"],\n",
    "        l_coords_world[\"h\"],\n",
    "        linewidth=2,\n",
    "        edgecolor=\"k\",\n",
    "        facecolor=\"none\",\n",
    "    )\n",
    ")\n",
    "ax.add_patch(\n",
    "    patches.Rectangle(\n",
    "        (r_coords_world[\"x\"], r_coords_world[\"y\"]),\n",
    "        r_coords_world[\"w\"],\n",
    "        r_coords_world[\"h\"],\n",
    "        linewidth=2,\n",
    "        edgecolor=\"k\",\n",
    "        facecolor=\"none\",\n",
    "    )\n",
    ")\n",
    "ax.invert_yaxis()\n",
    "ax.set_xlim([-20, 627])\n",
    "ax.set_ylim([312, -20])\n",
    "ax.set_aspect(\"equal\", adjustable=\"box\")\n",
    "for i_song, s in enumerate(song_detections):\n",
    "    t_song_start = s[0]\n",
    "    t_song_stop = s[1]\n",
    "    song_origin = s[2]\n",
    "    s_song_start = int((t_song_start - t_before) * fps)\n",
    "    s_song_stop = int((t_song_start + t_after) * fps)\n",
    "    if s_song_start < 0 or s_song_stop > l_spineM_world.shape[0]:\n",
    "        print(f\"song {i_song} does not have enough margin\")\n",
    "        continue\n",
    "    if song_origin == 0:\n",
    "        ax.plot(\n",
    "            l_spineM_world[s_song_start:s_song_stop, 0],\n",
    "            l_spineM_world[s_song_start:s_song_stop, 1],\n",
    "            linewidth=0.5,\n",
    "        )\n",
    "        song_start_loc = l_spineM_world[int(t_song_start * fps), :]\n",
    "        ax.scatter(song_start_loc[0], song_start_loc[1], color=\"k\", s=8, zorder=2)\n",
    "    else:\n",
    "        ax.plot(\n",
    "            r_spineM_world[s_song_start:s_song_stop, 0],\n",
    "            r_spineM_world[s_song_start:s_song_stop, 1],\n",
    "            linewidth=0.5,\n",
    "        )\n",
    "        song_start_loc = r_spineM_world[int(t_song_start * fps), :]\n",
    "        ax.scatter(song_start_loc[0], song_start_loc[1], color=\"k\", s=8, zorder=2)\n",
    "plt.tight_layout()\n",
    "if SAVE_FIG:\n",
    "    filename = f\"{VIDEO_ID}__position_song.{SAVE_FIG_FORMAT}\"\n",
    "    file = os.path.join(SAVE_FIG_DIR, filename)\n",
    "    plt.savefig(file, format=SAVE_FIG_FORMAT)\n",
    "plt.show()"
   ]
  },
  {
   "cell_type": "code",
   "execution_count": 178,
   "id": "8d0d85d0",
   "metadata": {},
   "outputs": [],
   "source": [
    "l_spineM_velocity = scipy.signal.savgol_filter(l_spineM_world, 25, 3, deriv=1, axis=0)\n",
    "l_spineM_speed = np.linalg.norm(l_spineM_velocity, axis=1)\n",
    "r_spineM_velocity = scipy.signal.savgol_filter(r_spineM_world, 25, 3, deriv=1, axis=0)\n",
    "r_spineM_speed = np.linalg.norm(r_spineM_velocity, axis=1)"
   ]
  },
  {
   "cell_type": "markdown",
   "id": "614a01b9",
   "metadata": {},
   "source": [
    "## plot speed around song"
   ]
  },
  {
   "cell_type": "code",
   "execution_count": 179,
   "id": "a91b9584",
   "metadata": {},
   "outputs": [],
   "source": [
    "t_before = 7.5\n",
    "t_after = 12.5"
   ]
  },
  {
   "cell_type": "code",
   "execution_count": 180,
   "id": "05c7107b",
   "metadata": {},
   "outputs": [],
   "source": [
    "l_speed_songs = []\n",
    "r_speed_songs = []\n",
    "l_song_durations = []\n",
    "r_song_durations = []\n",
    "for i_song, s in enumerate(song_detections):\n",
    "    t_song_start = s[0]\n",
    "    t_song_stop = s[1]\n",
    "    song_duration = t_song_stop - t_song_start\n",
    "    song_origin = s[2]\n",
    "    s_song_start = int((t_song_start - t_before) * fps)\n",
    "    s_song_stop = int((t_song_start + t_after) * fps)\n",
    "    if s_song_start < 0 or s_song_stop > l_spineM_world.shape[0]:\n",
    "        print(f\"song {i_song} does not have enough margin\")\n",
    "        continue\n",
    "    if song_origin == 0:\n",
    "        speed_song = l_spineM_speed[s_song_start:s_song_stop]\n",
    "        l_speed_songs.append(speed_song)\n",
    "        l_song_durations.append(song_duration)\n",
    "    else:\n",
    "        speed_song = r_spineM_speed[s_song_start:s_song_stop]\n",
    "        r_speed_songs.append(speed_song)\n",
    "        r_song_durations.append(song_duration)\n",
    "\n",
    "l_speed_songs = np.array(l_speed_songs)\n",
    "r_speed_songs = np.array(r_speed_songs)"
   ]
  },
  {
   "cell_type": "code",
   "execution_count": 181,
   "id": "272912e7",
   "metadata": {},
   "outputs": [],
   "source": [
    "# sort by duration\n",
    "l_plot_order = np.argsort(l_song_durations)\n",
    "l_song_durations = np.sort(l_song_durations)\n",
    "l_speed_songs = l_speed_songs[l_plot_order]\n",
    "r_plot_order = np.argsort(r_song_durations)\n",
    "r_song_durations = np.sort(r_song_durations)\n",
    "r_speed_songs = r_speed_songs[r_plot_order]"
   ]
  },
  {
   "cell_type": "code",
   "execution_count": 182,
   "id": "efc8d88e",
   "metadata": {},
   "outputs": [
    {
     "data": {
      "image/png": "[encoded data removed]",
      "text/plain": [
       "<Figure size 1200x400 with 2 Axes>"
      ]
     },
     "metadata": {},
     "output_type": "display_data"
    }
   ],
   "source": [
    "fig, axes = plt.subplots(figsize=(12, 4), nrows=2, sharex=True)\n",
    "if l_speed_songs.size != 0:\n",
    "    axes[0].imshow(\n",
    "        l_speed_songs,\n",
    "        interpolation=\"none\",\n",
    "        extent=(0, l_speed_songs.shape[1] / fps, l_speed_songs.shape[0], 0),\n",
    "        vmin=0,\n",
    "        vmax=1.8,\n",
    "    )\n",
    "axes[0].axis(\"auto\")\n",
    "for i_row, song_duration in enumerate(l_song_durations):\n",
    "    axes[0].vlines(x=t_before, ymin=i_row, ymax=i_row + 1, color=\"tab:red\", linewidth=3)\n",
    "    axes[0].vlines(\n",
    "        x=t_before + song_duration,\n",
    "        ymin=i_row,\n",
    "        ymax=i_row + 1,\n",
    "        color=\"tab:red\",\n",
    "        linewidth=3,\n",
    "    )\n",
    "if r_speed_songs.size != 0:\n",
    "    axes[1].imshow(\n",
    "        r_speed_songs,\n",
    "        interpolation=\"none\",\n",
    "        extent=(0, r_speed_songs.shape[1] / fps, r_speed_songs.shape[0], 0),\n",
    "        vmin=0,\n",
    "        vmax=1.8,\n",
    "    )\n",
    "axes[1].axis(\"auto\")\n",
    "for i_row, song_duration in enumerate(r_song_durations):\n",
    "    axes[1].vlines(x=t_before, ymin=i_row, ymax=i_row + 1, color=\"tab:red\", linewidth=3)\n",
    "    axes[1].vlines(\n",
    "        x=t_before + song_duration,\n",
    "        ymin=i_row,\n",
    "        ymax=i_row + 1,\n",
    "        color=\"tab:red\",\n",
    "        linewidth=3,\n",
    "    )\n",
    "axes[1].set_xlabel(\"time (s)\")\n",
    "axes[0].set_ylabel(\"left songs\")\n",
    "axes[1].set_ylabel(\"right songs\")\n",
    "plt.tight_layout()\n",
    "if SAVE_FIG:\n",
    "    filename = f\"{VIDEO_ID}__speed_around_song.{SAVE_FIG_FORMAT}\"\n",
    "    file = os.path.join(SAVE_FIG_DIR, filename)\n",
    "    plt.savefig(file, format=SAVE_FIG_FORMAT)\n",
    "plt.show()"
   ]
  },
  {
   "cell_type": "code",
   "execution_count": null,
   "id": "d610419d",
   "metadata": {},
   "outputs": [],
   "source": []
  }
 ],
 "metadata": {
  "kernelspec": {
   "display_name": "mousesong-env",
   "language": "python",
   "name": "python3"
  },
  "language_info": {
   "codemirror_mode": {
    "name": "ipython",
    "version": 3
   },
   "file_extension": ".py",
   "mimetype": "text/x-python",
   "name": "python",
   "nbconvert_exporter": "python",
   "pygments_lexer": "ipython3",
   "version": "3.7.12"
  }
 },
 "nbformat": 4,
 "nbformat_minor": 5
}
